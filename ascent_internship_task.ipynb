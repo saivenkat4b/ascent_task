{
 "cells": [
  {
   "cell_type": "code",
   "execution_count": 1,
   "id": "fb45ad0c",
   "metadata": {},
   "outputs": [],
   "source": [
    "import pandas as pd\n",
    "from reportlab.lib.pagesizes import A4\n",
    "from reportlab.lib import colors\n",
    "from reportlab.platypus import SimpleDocTemplate, Table, TableStyle, Paragraph, Spacer\n",
    "from reportlab.lib.styles import getSampleStyleSheet, ParagraphStyle"
   ]
  },
  {
   "cell_type": "markdown",
   "id": "c6a198d6",
   "metadata": {},
   "source": [
    "Read excel data"
   ]
  },
  {
   "cell_type": "code",
   "execution_count": 2,
   "id": "0abd7124",
   "metadata": {},
   "outputs": [],
   "source": [
    "#Load the Excel file\n",
    "file_path = r\"C:\\Users\\saive\\Desktop\\myproject\\Quadrant_cognizant\\Project - K\\Major Project\\ds intern\\doc\\retail_trade_sales.xlsx\"\n",
    "df = pd.read_excel(file_path)\n",
    "\n",
    "#DataFrame Transpose\n",
    "df = df.transpose()\n",
    "df.reset_index(inplace=True)\n",
    "\n",
    "#Remove the index column\n",
    "df = df.iloc[:, :]"
   ]
  },
  {
   "cell_type": "markdown",
   "id": "187487ab",
   "metadata": {},
   "source": [
    "Create appropriate headers"
   ]
  },
  {
   "cell_type": "code",
   "execution_count": 3,
   "id": "3d3aa313",
   "metadata": {},
   "outputs": [],
   "source": [
    "#Header\n",
    "header_row_1 = [\"Detail Analysis\", \"USD Million $\", None, None, None, None, \"Percentage Value %\", None, None, None, None]\n",
    "header_row_2 = [\" \"] + [str(year) for year in df.iloc[0, 1:]]  # Adjust the header with years\n",
    "\n",
    "#Header + Data\n",
    "data = [header_row_1, header_row_2] + df.iloc[1:].values.tolist()\n",
    "\n",
    "#PDF Creation\n",
    "pdf_filename = r\"C:\\Users\\saive\\Desktop\\myproject\\Quadrant_cognizant\\Project - K\\Major Project\\ds intern\\doc\\output\\trade_sales_output.pdf\"\n",
    "\n",
    "#Layout\n",
    "document = SimpleDocTemplate(pdf_filename, pagesize=A4,\n",
    "                             leftMargin=25,\n",
    "                             rightMargin=25, \n",
    "                             topMargin=30, \n",
    "                             bottomMargin=30)\n",
    "\n",
    "# Adjust column widths\n",
    "col_widths = [145] + [40] * (len(header_row_2) - 1)"
   ]
  },
  {
   "cell_type": "markdown",
   "id": "0c66e630",
   "metadata": {},
   "source": [
    "Table creation"
   ]
  },
  {
   "cell_type": "code",
   "execution_count": 4,
   "id": "98ffcdb2",
   "metadata": {},
   "outputs": [],
   "source": [
    "#Create Table\n",
    "table = Table(data, colWidths=col_widths)\n",
    "\n",
    "# Add table style with merged cells\n",
    "table_style = TableStyle([\n",
    "    ('SPAN', (1, 0), (5, 0)),  # Merge \"USD Million $\" cells\n",
    "    ('SPAN', (6, 0), (10, 0)),  # Merge \"Percentage Value %\" cells\n",
    "    ('BACKGROUND', (0, 0), (-1, 0), colors.yellow),  # Header row 1 background\n",
    "    ('BACKGROUND', (0, 1), (-1, 1), colors.darkblue),  # Header row 2 background\n",
    "    ('TEXTCOLOR', (0, 1), (-1, 1), colors.white),  # Header row 2 text color\n",
    "    ('TEXTCOLOR', (0, 0), (-1, 0), colors.black),  # Header row 1 text color\n",
    "    ('ALIGN', (0, 0), (-1, -1), 'CENTER'),\n",
    "    ('FONTNAME', (0, 0), (-1, -1), 'Helvetica-Bold'),\n",
    "    ('FONTSIZE', (0, 0), (-1, -1), 9),\n",
    "    ('GRID', (0, 0), (-1, -1), 0.5, colors.grey),\n",
    "    ('ROWBACKGROUNDS', (0, 2), (-1, -1), [colors.whitesmoke, colors.lightgrey]),  # Alternate row colors\n",
    "    ('VALIGN', (0, 0), (-1, -1), 'MIDDLE'),\n",
    "])\n",
    "\n",
    "table.setStyle(table_style)\n",
    "\n",
    "title_style_1 = ParagraphStyle('TitleStyle1', fontName='Helvetica-Bold', fontSize=20, textColor=colors.dodgerblue, alignment=0)\n",
    "title_style_2 = ParagraphStyle('TitleStyle2', fontName='Helvetica-Bold', fontSize=26, textColor=colors.mediumvioletred, alignment=0)\n",
    "\n",
    "full_title = Paragraph(\n",
    "    \"<font size=20 color='dodgerblue'>USA Agriculture Sales</font> <font size=26 color='mediumvioletred'>GAIN Report</font>\",\n",
    "    style=title_style_1\n",
    ")"
   ]
  },
  {
   "cell_type": "markdown",
   "id": "bb71787f",
   "metadata": {},
   "source": [
    "PDF generation as Output"
   ]
  },
  {
   "cell_type": "code",
   "execution_count": 5,
   "id": "a4a985ad",
   "metadata": {},
   "outputs": [
    {
     "name": "stdout",
     "output_type": "stream",
     "text": [
      "Enhanced PDF generated successfully at: C:\\Users\\saive\\Desktop\\myproject\\Quadrant_cognizant\\Project - K\\Major Project\\ds intern\\doc\\output\\trade_sales_output.pdf\n"
     ]
    }
   ],
   "source": [
    "# Get default title style from the sample stylesheet\n",
    "styles = getSampleStyleSheet()\n",
    "default_title = Paragraph(\"Retail Trade Sales Report\", styles['Title'])\n",
    "\n",
    "# Add a spacer to move the table down\n",
    "spacer = Spacer(10, 30)  # Adjust the 12 value to your desired space (in points)\n",
    "\n",
    "# Build the PDF document with title, spacer, and table\n",
    "elements = [default_title, full_title, spacer, table]\n",
    "document.build(elements)\n",
    "\n",
    "# Print the location of the generated PDF\n",
    "print(f\"Enhanced PDF generated successfully at: {pdf_filename}\")"
   ]
  },
  {
   "cell_type": "code",
   "execution_count": null,
   "id": "054838e5",
   "metadata": {},
   "outputs": [],
   "source": []
  }
 ],
 "metadata": {
  "kernelspec": {
   "display_name": "Python 3 (ipykernel)",
   "language": "python",
   "name": "python3"
  },
  "language_info": {
   "codemirror_mode": {
    "name": "ipython",
    "version": 3
   },
   "file_extension": ".py",
   "mimetype": "text/x-python",
   "name": "python",
   "nbconvert_exporter": "python",
   "pygments_lexer": "ipython3",
   "version": "3.11.5"
  }
 },
 "nbformat": 4,
 "nbformat_minor": 5
}
